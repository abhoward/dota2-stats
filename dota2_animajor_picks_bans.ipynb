{
 "cells": [
  {
   "cell_type": "code",
   "execution_count": 1,
   "metadata": {},
   "outputs": [],
   "source": [
    "import requests\n",
    "import json\n",
    "\n",
    "import pandas as pd\n",
    "import pandasql as ps\n",
    "import numpy as np\n",
    "\n",
    "from highcharts import Highchart"
   ]
  },
  {
   "cell_type": "code",
   "execution_count": 2,
   "metadata": {},
   "outputs": [],
   "source": [
    "link = 'https://api.opendota.com/api/proMatches'"
   ]
  },
  {
   "cell_type": "code",
   "execution_count": 3,
   "metadata": {},
   "outputs": [],
   "source": [
    "r = requests.get(link)\n",
    "data = json.loads(r.text)"
   ]
  },
  {
   "cell_type": "code",
   "execution_count": 4,
   "metadata": {},
   "outputs": [],
   "source": [
    "df = pd.DataFrame(data)"
   ]
  },
  {
   "cell_type": "code",
   "execution_count": 5,
   "metadata": {},
   "outputs": [],
   "source": [
    "kyiv_major_matches = df[df['leagueid'] == 12964]"
   ]
  },
  {
   "cell_type": "code",
   "execution_count": 6,
   "metadata": {},
   "outputs": [],
   "source": [
    "hero_stats = pd.DataFrame()"
   ]
  },
  {
   "cell_type": "code",
   "execution_count": 7,
   "metadata": {},
   "outputs": [
    {
     "name": "stderr",
     "output_type": "stream",
     "text": [
      "C:\\Users\\Alec\\Anaconda3\\lib\\site-packages\\pandas\\core\\frame.py:7138: FutureWarning: Sorting because non-concatenation axis is not aligned. A future version\n",
      "of pandas will change to not sort by default.\n",
      "\n",
      "To accept the future behavior, pass 'sort=False'.\n",
      "\n",
      "To retain the current behavior and silence the warning, pass 'sort=True'.\n",
      "\n",
      "  sort=sort,\n"
     ]
    }
   ],
   "source": [
    "for match_id in kyiv_major_matches['match_id'].tolist():\n",
    "    match_link = 'https://api.opendota.com/api/matches/{}'.format(match_id)\n",
    "    r = requests.get(match_link)\n",
    "    data = json.loads(r.text)\n",
    "    match_df = pd.DataFrame(data['draft_timings'])\n",
    "    match_df['match_id'] = match_id\n",
    "    \n",
    "    hero_stats = hero_stats.append(match_df)\n",
    "    hero_stats.reset_index(drop = True)"
   ]
  },
  {
   "cell_type": "code",
   "execution_count": 8,
   "metadata": {},
   "outputs": [],
   "source": [
    "heroes_link = 'https://api.opendota.com/api/heroes'"
   ]
  },
  {
   "cell_type": "code",
   "execution_count": 9,
   "metadata": {},
   "outputs": [],
   "source": [
    "r = requests.get(heroes_link)\n",
    "data = json.loads(r.text)\n",
    "heroes_df = pd.DataFrame(data)\n",
    "heroes = heroes_df[['id', 'localized_name', 'primary_attr']]"
   ]
  },
  {
   "cell_type": "code",
   "execution_count": 10,
   "metadata": {},
   "outputs": [],
   "source": [
    "sql_query = \"\"\"\n",
    "SELECT  hero_stats.hero_id,\n",
    "        heroes.localized_name AS hero_name,\n",
    "        SUM(CASE \n",
    "            WHEN hero_stats.pick = 1 THEN 1\n",
    "            ELSE 0\n",
    "        END) AS hero_picks,\n",
    "        SUM(CASE \n",
    "            WHEN hero_stats.pick = 0 THEN 1\n",
    "            ELSE 0\n",
    "        END) AS hero_bans\n",
    "FROM hero_stats\n",
    "JOIN heroes\n",
    "ON hero_stats.hero_id = heroes.id\n",
    "GROUP BY hero_id, hero_name\n",
    "\"\"\"\n",
    "\n",
    "hero_counts = ps.sqldf(sql_query)"
   ]
  },
  {
   "cell_type": "code",
   "execution_count": 11,
   "metadata": {},
   "outputs": [],
   "source": [
    "hero_counts['total_pbs'] = hero_counts['hero_picks'] + hero_counts['hero_bans']\n",
    "hero_counts = hero_counts.astype({'hero_id': 'int32'})"
   ]
  },
  {
   "cell_type": "code",
   "execution_count": 12,
   "metadata": {},
   "outputs": [],
   "source": [
    "for i in heroes[['id', 'localized_name']].iterrows():\n",
    "    hero_id = i[1][0]\n",
    "    hero_name = i[1][1]\n",
    "    \n",
    "    if hero_name not in hero_counts['hero_name'].tolist():\n",
    "        hero_counts = hero_counts.append({'hero_id': hero_id, 'hero_name': hero_name, 'hero_picks': 0, 'hero_bans': 0, 'total_pbs': 0}, ignore_index = True)\n",
    "        \n",
    "hero_counts.sort_values(by = ['total_pbs', 'hero_picks', 'hero_bans'], ascending = False, inplace = True)"
   ]
  },
  {
   "cell_type": "code",
   "execution_count": 13,
   "metadata": {
    "scrolled": false
   },
   "outputs": [
    {
     "data": {
      "text/html": [
       "<iframe style=\"border:0;outline:none;overflow:hidden\" srcdoc=\"&lt;!DOCTYPE html&gt; &lt;html lang=&quot;en&quot;&gt; &lt;head&gt; &lt;meta charset=&quot;utf-8&quot; /&gt; &lt;link href=&quot;https://www.highcharts.com/highslide/highslide.css&quot; rel=&quot;stylesheet&quot; /&gt; &lt;script type=&quot;text/javascript&quot; src=&quot;https://ajax.googleapis.com/ajax/libs/jquery/3.6.0/jquery.min.js&quot;&gt;&lt;/script&gt; &lt;script type=&quot;text/javascript&quot; src=&quot;https://code.highcharts.com/8/highcharts.js&quot;&gt;&lt;/script&gt; &lt;script type=&quot;text/javascript&quot; src=&quot;https://code.highcharts.com/8/highcharts-more.js&quot;&gt;&lt;/script&gt; &lt;script type=&quot;text/javascript&quot; src=&quot;https://code.highcharts.com/8/modules/heatmap.js&quot;&gt;&lt;/script&gt; &lt;script type=&quot;text/javascript&quot; src=&quot;https://code.highcharts.com/8/modules/exporting.js&quot;&gt;&lt;/script&gt; &lt;/head&gt; &lt;body style=&quot;margin:0;padding:0&quot;&gt; &lt;div id=&quot;container&quot; style=&quot;width:2500px;height:1250px;&quot;&gt;Loading....&lt;/div&gt; &lt;script&gt; $(function(){ Highcharts.setOptions({&quot;global&quot;: {}, &quot;lang&quot;: {&quot;thousandsSep&quot;: &quot;,&quot;}}); var option = {&quot;chart&quot;: {&quot;renderTo&quot;: &quot;container&quot;, &quot;type&quot;: &quot;column&quot;, &quot;height&quot;: 1250, &quot;width&quot;: 2500}, &quot;colors&quot;: {}, &quot;credits&quot;: {&quot;enabled&quot;: false}, &quot;drilldown&quot;: {}, &quot;exporting&quot;: {}, &quot;labels&quot;: {}, &quot;legend&quot;: {&quot;verticalAlign&quot;: &quot;top&quot;}, &quot;loading&quot;: {}, &quot;navigation&quot;: {}, &quot;pane&quot;: {}, &quot;plotOptions&quot;: {&quot;series&quot;: {&quot;stacking&quot;: &quot;normal&quot;, &quot;events&quot;: {&quot;legendItemClick&quot;: function(event) { \tvar s = chart.series; for(i = 0; i &lt; s.length; i++) { console.log(&quot;-------------------------&quot;); console.log(&quot;before: &quot; + s[i].name + &quot; - &quot; + s[i].options.dataSorting.enabled); if (this == s[i] &amp;&amp; this.visible == true &amp;&amp; s[1 - i].visible == true) { s[i].setVisible(false); s[i].update({dataSorting: {enabled: false, sortKey: &#x27;y&#x27;}}); s[1 - i].update({dataSorting: {enabled: true, sortKey: &#x27;y&#x27;}}, false); s[1 - i].setData(s[1 - i].data, true, {duration: 1000}); } else if (this == s[i] &amp;&amp; this.visible == false &amp;&amp; s[1 - i].visible == true) { s[i].setVisible(true); s[i].update({dataSorting: {enabled: false, sortKey: &#x27;this.point.stack&#x27;}}); s[1 - i].update({dataSorting: {enabled: true, sortKey: &#x27;this.point.stack&#x27;}}); s[1 - i].setData(s[1 - i].data, true, {duration: 1000}); } else if (this == s[i] &amp;&amp; this.visible == true &amp;&amp; s[1 - i].visible == false) { } else if (this == s[i] &amp;&amp; this.visible == false &amp;&amp; s[1 - i].visible == false) { } console.log(&quot;after: &quot; + s[i].name + &quot; - &quot; + s[i].options.dataSorting.enabled); } \treturn false; }}}}, &quot;series&quot;: {}, &quot;subtitle&quot;: {}, &quot;title&quot;: {&quot;text&quot;: &quot;Kyiv Major 2021 Wildcard + Group Stage Hero Stats&quot;}, &quot;tooltip&quot;: {}, &quot;dataSorting&quot;: {}, &quot;xAxis&quot;: {&quot;type&quot;: &quot;category&quot;, &quot;min&quot;: 0, &quot;tickInterval&quot;: 1, &quot;title&quot;: {&quot;text&quot;: &quot;Hero&quot;}, &quot;labels&quot;: {&quot;step&quot;: 1, &quot;rotation&quot;: -45, &quot;animate&quot;: true}}, &quot;yAxis&quot;: [{&quot;min&quot;: 0, &quot;max&quot;: 53, &quot;title&quot;: {&quot;text&quot;: &quot;Number of Appearances&quot;}, &quot;plotLines&quot;: [{&quot;id&quot;: &quot;Total Matches&quot;, &quot;color&quot;: &quot;#2a9cd1&quot;, &quot;width&quot;: 2, &quot;value&quot;: 51, &quot;dashStyle&quot;: &quot;dash&quot;, &quot;zIndex&quot;: 2, &quot;label&quot;: {&quot;text&quot;: &quot;Total Matches&quot;, &quot;x&quot;: 0, &quot;y&quot;: -10}}]}]}; var chart = new Highcharts.Chart(option); var data = [{&quot;data&quot;: [[&quot;Mars&quot;, 30], [&quot;Ancient Apparition&quot;, 14], [&quot;Templar Assassin&quot;, 17], [&quot;Nyx Assassin&quot;, 10], [&quot;Viper&quot;, 8], [&quot;Faceless Void&quot;, 9], [&quot;Ursa&quot;, 8], [&quot;Broodmother&quot;, 1], [&quot;Puck&quot;, 14], [&quot;Enchantress&quot;, 14], [&quot;Snapfire&quot;, 21], [&quot;Timbersaw&quot;, 8], [&quot;Lion&quot;, 15], [&quot;Leshrac&quot;, 10], [&quot;Terrorblade&quot;, 9], [&quot;Phoenix&quot;, 14], [&quot;Morphling&quot;, 8], [&quot;Phantom Lancer&quot;, 6], [&quot;Dragon Knight&quot;, 13], [&quot;Wraith King&quot;, 9], [&quot;Tiny&quot;, 12], [&quot;Spectre&quot;, 9], [&quot;Lina&quot;, 10], [&quot;Ember Spirit&quot;, 5], [&quot;Dark Seer&quot;, 4], [&quot;Dark Willow&quot;, 10], [&quot;Magnus&quot;, 9], [&quot;Death Prophet&quot;, 5], [&quot;Doom&quot;, 7], [&quot;Razor&quot;, 4], [&quot;Batrider&quot;, 2], [&quot;Winter Wyvern&quot;, 10], [&quot;Monkey King&quot;, 6], [&quot;Lifestealer&quot;, 4], [&quot;Axe&quot;, 10], [&quot;Grimstroke&quot;, 10], [&quot;Invoker&quot;, 6], [&quot;Storm Spirit&quot;, 4], [&quot;Slardar&quot;, 2], [&quot;Io&quot;, 2], [&quot;Legion Commander&quot;, 2], [&quot;Clockwerk&quot;, 9], [&quot;Bristleback&quot;, 5], [&quot;Oracle&quot;, 4], [&quot;Earth Spirit&quot;, 7], [&quot;Elder Titan&quot;, 8], [&quot;Venomancer&quot;, 2], [&quot;Bloodseeker&quot;, 3], [&quot;Tidehunter&quot;, 3], [&quot;Void Spirit&quot;, 3], [&quot;Phantom Assassin&quot;, 5], [&quot;Treant Protector&quot;, 5], [&quot;Medusa&quot;, 4], [&quot;Shadow Shaman&quot;, 6], [&quot;Abaddon&quot;, 4], [&quot;Sand King&quot;, 3], [&quot;Centaur Warrunner&quot;, 3], [&quot;Pangolier&quot;, 3], [&quot;Warlock&quot;, 4], [&quot;Beastmaster&quot;, 4], [&quot;Juggernaut&quot;, 2], [&quot;Anti-Mage&quot;, 1], [&quot;Disruptor&quot;, 4], [&quot;Skywrath Mage&quot;, 3], [&quot;Drow Ranger&quot;, 2], [&quot;Kunkka&quot;, 2], [&quot;Gyrocopter&quot;, 2], [&quot;Windranger&quot;, 3], [&quot;Lone Druid&quot;, 3], [&quot;Shadow Demon&quot;, 2], [&quot;Luna&quot;, 1], [&quot;Troll Warlord&quot;, 0], [&quot;Mirana&quot;, 2], [&quot;Shadow Fiend&quot;, 2], [&quot;Dazzle&quot;, 2], [&quot;Omniknight&quot;, 2], [&quot;Rubick&quot;, 2], [&quot;Witch Doctor&quot;, 1], [&quot;Chaos Knight&quot;, 1], [&quot;Naga Siren&quot;, 1], [&quot;Hoodwink&quot;, 1], [&quot;Enigma&quot;, 0], [&quot;Underlord&quot;, 0], [&quot;Bane&quot;, 1], [&quot;Sven&quot;, 1], [&quot;Pugna&quot;, 1], [&quot;Huskar&quot;, 1], [&quot;Night Stalker&quot;, 1], [&quot;Crystal Maiden&quot;, 0], [&quot;Earthshaker&quot;, 0], [&quot;Pudge&quot;, 0], [&quot;Vengeful Spirit&quot;, 0], [&quot;Zeus&quot;, 0], [&quot;Lich&quot;, 0], [&quot;Riki&quot;, 0], [&quot;Tinker&quot;, 0], [&quot;Sniper&quot;, 0], [&quot;Necrophos&quot;, 0], [&quot;Queen of Pain&quot;, 0], [&quot;Nature&#x27;s Prophet&quot;, 0], [&quot;Clinkz&quot;, 0], [&quot;Bounty Hunter&quot;, 0], [&quot;Weaver&quot;, 0], [&quot;Jakiro&quot;, 0], [&quot;Chen&quot;, 0], [&quot;Spirit Breaker&quot;, 0], [&quot;Alchemist&quot;, 0], [&quot;Silencer&quot;, 0], [&quot;Outworld Destroyer&quot;, 0], [&quot;Lycan&quot;, 0], [&quot;Brewmaster&quot;, 0], [&quot;Meepo&quot;, 0], [&quot;Ogre Magi&quot;, 0], [&quot;Undying&quot;, 0], [&quot;Keeper of the Light&quot;, 0], [&quot;Visage&quot;, 0], [&quot;Slark&quot;, 0], [&quot;Tusk&quot;, 0], [&quot;Techies&quot;, 0], [&quot;Arc Warden&quot;, 0], [&quot;Dawnbreaker&quot;, 0]], &quot;type&quot;: &quot;column&quot;, &quot;id&quot;: &quot;Hero Picks&quot;, &quot;color&quot;: &quot;rgba(56, 171, 48, 0.75)&quot;, &quot;dataSorting&quot;: {&quot;enabled&quot;: false}, &quot;name&quot;: &quot;Hero Picks&quot;}, {&quot;data&quot;: [[&quot;Mars&quot;, 18], [&quot;Ancient Apparition&quot;, 33], [&quot;Templar Assassin&quot;, 25], [&quot;Nyx Assassin&quot;, 32], [&quot;Viper&quot;, 25], [&quot;Faceless Void&quot;, 23], [&quot;Ursa&quot;, 24], [&quot;Broodmother&quot;, 30], [&quot;Puck&quot;, 14], [&quot;Enchantress&quot;, 14], [&quot;Snapfire&quot;, 6], [&quot;Timbersaw&quot;, 19], [&quot;Lion&quot;, 8], [&quot;Leshrac&quot;, 13], [&quot;Terrorblade&quot;, 14], [&quot;Phoenix&quot;, 7], [&quot;Morphling&quot;, 13], [&quot;Phantom Lancer&quot;, 15], [&quot;Dragon Knight&quot;, 6], [&quot;Wraith King&quot;, 10], [&quot;Tiny&quot;, 6], [&quot;Spectre&quot;, 9], [&quot;Lina&quot;, 7], [&quot;Ember Spirit&quot;, 11], [&quot;Dark Seer&quot;, 12], [&quot;Dark Willow&quot;, 5], [&quot;Magnus&quot;, 6], [&quot;Death Prophet&quot;, 10], [&quot;Doom&quot;, 7], [&quot;Razor&quot;, 10], [&quot;Batrider&quot;, 12], [&quot;Winter Wyvern&quot;, 3], [&quot;Monkey King&quot;, 7], [&quot;Lifestealer&quot;, 9], [&quot;Axe&quot;, 2], [&quot;Grimstroke&quot;, 2], [&quot;Invoker&quot;, 6], [&quot;Storm Spirit&quot;, 8], [&quot;Slardar&quot;, 10], [&quot;Io&quot;, 10], [&quot;Legion Commander&quot;, 10], [&quot;Clockwerk&quot;, 2], [&quot;Bristleback&quot;, 6], [&quot;Oracle&quot;, 7], [&quot;Earth Spirit&quot;, 3], [&quot;Elder Titan&quot;, 1], [&quot;Venomancer&quot;, 7], [&quot;Bloodseeker&quot;, 5], [&quot;Tidehunter&quot;, 5], [&quot;Void Spirit&quot;, 5], [&quot;Phantom Assassin&quot;, 2], [&quot;Treant Protector&quot;, 2], [&quot;Medusa&quot;, 3], [&quot;Shadow Shaman&quot;, 0], [&quot;Abaddon&quot;, 2], [&quot;Sand King&quot;, 3], [&quot;Centaur Warrunner&quot;, 3], [&quot;Pangolier&quot;, 3], [&quot;Warlock&quot;, 1], [&quot;Beastmaster&quot;, 1], [&quot;Juggernaut&quot;, 3], [&quot;Anti-Mage&quot;, 4], [&quot;Disruptor&quot;, 0], [&quot;Skywrath Mage&quot;, 1], [&quot;Drow Ranger&quot;, 2], [&quot;Kunkka&quot;, 2], [&quot;Gyrocopter&quot;, 2], [&quot;Windranger&quot;, 0], [&quot;Lone Druid&quot;, 0], [&quot;Shadow Demon&quot;, 1], [&quot;Luna&quot;, 2], [&quot;Troll Warlord&quot;, 3], [&quot;Mirana&quot;, 0], [&quot;Shadow Fiend&quot;, 0], [&quot;Dazzle&quot;, 0], [&quot;Omniknight&quot;, 0], [&quot;Rubick&quot;, 0], [&quot;Witch Doctor&quot;, 1], [&quot;Chaos Knight&quot;, 1], [&quot;Naga Siren&quot;, 1], [&quot;Hoodwink&quot;, 1], [&quot;Enigma&quot;, 2], [&quot;Underlord&quot;, 2], [&quot;Bane&quot;, 0], [&quot;Sven&quot;, 0], [&quot;Pugna&quot;, 0], [&quot;Huskar&quot;, 0], [&quot;Night Stalker&quot;, 0], [&quot;Crystal Maiden&quot;, 0], [&quot;Earthshaker&quot;, 0], [&quot;Pudge&quot;, 0], [&quot;Vengeful Spirit&quot;, 0], [&quot;Zeus&quot;, 0], [&quot;Lich&quot;, 0], [&quot;Riki&quot;, 0], [&quot;Tinker&quot;, 0], [&quot;Sniper&quot;, 0], [&quot;Necrophos&quot;, 0], [&quot;Queen of Pain&quot;, 0], [&quot;Nature&#x27;s Prophet&quot;, 0], [&quot;Clinkz&quot;, 0], [&quot;Bounty Hunter&quot;, 0], [&quot;Weaver&quot;, 0], [&quot;Jakiro&quot;, 0], [&quot;Chen&quot;, 0], [&quot;Spirit Breaker&quot;, 0], [&quot;Alchemist&quot;, 0], [&quot;Silencer&quot;, 0], [&quot;Outworld Destroyer&quot;, 0], [&quot;Lycan&quot;, 0], [&quot;Brewmaster&quot;, 0], [&quot;Meepo&quot;, 0], [&quot;Ogre Magi&quot;, 0], [&quot;Undying&quot;, 0], [&quot;Keeper of the Light&quot;, 0], [&quot;Visage&quot;, 0], [&quot;Slark&quot;, 0], [&quot;Tusk&quot;, 0], [&quot;Techies&quot;, 0], [&quot;Arc Warden&quot;, 0], [&quot;Dawnbreaker&quot;, 0]], &quot;type&quot;: &quot;column&quot;, &quot;id&quot;: &quot;Hero Bans&quot;, &quot;color&quot;: &quot;rgba(184, 60, 51, 0.75)&quot;, &quot;dataSorting&quot;: {&quot;enabled&quot;: false}, &quot;name&quot;: &quot;Hero Bans&quot;}]; var dataLen = data.length; for (var ix = 0; ix &lt; dataLen; ix++) { chart.addSeries(data[ix]); } }); &lt;/script&gt; &lt;/body&gt; &lt;/html&gt;\" height=1250 width=2500></iframe>"
      ],
      "text/plain": [
       "<highcharts.highcharts.highcharts.Highchart at 0x2146d3571d0>"
      ]
     },
     "execution_count": 13,
     "metadata": {},
     "output_type": "execute_result"
    }
   ],
   "source": [
    "# python Highchart documentation: https://github.com/kyper-data/python-highcharts\n",
    "# javascript Highchart documentation: https://api.highcharts.com/highcharts/\n",
    "\n",
    "# this instantiates the chart that we edit and add data to below\n",
    "chart = Highchart()\n",
    "\n",
    "options = {\n",
    "    'title': {\n",
    "      'text': 'Kyiv Major 2021 Wildcard + Group Stage Hero Stats'\n",
    "    },\n",
    "    \n",
    "    'xAxis': {\n",
    "        'type': 'category',\n",
    "        'min': 0,\n",
    "        'tickInterval': 1,\n",
    "#         'categories': hero_counts['hero_name'].tolist(),\n",
    "        'title': {\n",
    "          'text': 'Hero'\n",
    "        },\n",
    "        'labels': {\n",
    "          'step': 1,\n",
    "          'rotation': -45,\n",
    "          'animate': True\n",
    "        }\n",
    "    },\n",
    "\n",
    "    'yAxis': [{ # Primary Axis\n",
    "      'min': 0,\n",
    "      'max': len(kyiv_major_matches) + 2,\n",
    "      'title': { \n",
    "        'text': 'Number of Appearances',\n",
    "      },\n",
    "     'plotLines': \n",
    "        [{\n",
    "          'id': 'Total Matches',\n",
    "          'color': '#2a9cd1',\n",
    "          'width': 2,\n",
    "          'value': len(kyiv_major_matches),\n",
    "          'dashStyle': 'dash',\n",
    "          'zIndex': 2,\n",
    "          'label': {\n",
    "            'text': \"Total Matches\", \n",
    "            'x': 0, \n",
    "            'y': -10\n",
    "          }\n",
    "        }],\n",
    "    }\n",
    "    ],\n",
    "#     const newSeries = chart.series[0].data.sort((a,b)=>a-b);\n",
    "#     return chart.series[0].xAxis.categories;\n",
    "#     'tooltip': {\n",
    "#         'formatter': \"\"\"\n",
    "#         function() {\n",
    "#             return this.series.options.dataSorting.enabled;\n",
    "#         }\"\"\"\n",
    "#     },\n",
    "  \n",
    "    'lang': {\n",
    "        'thousandsSep': ','\n",
    "    },\n",
    "\n",
    "    'plotOptions': {\n",
    "        'series': {\n",
    "          'stacking': 'normal',\n",
    "        \t'events': {\n",
    "            \t'legendItemClick': \"\"\"function(event) {\n",
    "                \tvar s = chart.series;\n",
    "                    for(i = 0; i < s.length; i++) {\n",
    "                        console.log(\"-------------------------\");\n",
    "                        console.log(\"before: \" + s[i].name + \" - \" + s[i].options.dataSorting.enabled);\n",
    "                        if (this == s[i] && this.visible == true && s[1 - i].visible == true) {\n",
    "                            s[i].setVisible(false);\n",
    "                            s[i].update({dataSorting: {enabled: false, sortKey: 'y'}});\n",
    "                            s[1 - i].update({dataSorting: {enabled: true, sortKey: 'y'}}, false);\n",
    "                            s[1 - i].setData(s[1 - i].data, true, {duration: 1000});\n",
    "                        }\n",
    "                        else if (this == s[i] && this.visible == false && s[1 - i].visible == true) {\n",
    "                            s[i].setVisible(true);\n",
    "                            s[i].update({dataSorting: {enabled: false, sortKey: 'this.point.stack'}});\n",
    "                            s[1 - i].update({dataSorting: {enabled: true, sortKey: 'this.point.stack'}});\n",
    "                            s[1 - i].setData(s[1 - i].data, true, {duration: 1000});\n",
    "                        }\n",
    "                        else if (this == s[i] && this.visible == true && s[1 - i].visible == false) {\n",
    "                        }\n",
    "                        else if (this == s[i] && this.visible == false && s[1 - i].visible == false) {\n",
    "                        }\n",
    "                        console.log(\"after: \" + s[i].name + \" - \" + s[i].options.dataSorting.enabled);\n",
    "                    }\n",
    "                    \n",
    "                \treturn false;\n",
    "                }\"\"\"\n",
    "            }\n",
    "        }\n",
    "    },\n",
    "    \n",
    "    'chart': {\n",
    "      'type': 'column',\n",
    "      'height': 1250,\n",
    "      'width': 2500\n",
    "    },\n",
    "    'legend': {\n",
    "      'verticalAlign': 'top',\n",
    "        }\n",
    "  }\n",
    "\n",
    "chart.set_dict_options(options)\n",
    "\n",
    "hero_picks = hero_counts[['hero_name', 'hero_picks']].values.tolist()\n",
    "hero_bans = hero_counts[['hero_name', 'hero_bans']].values.tolist()\n",
    "\n",
    "chart.add_data_set(hero_picks, series_type = 'column', name = 'Hero Picks', id = 'Hero Picks', color = 'rgba(56, 171, 48, 0.75)', dataSorting = {'enabled': False})\n",
    "chart.add_data_set(hero_bans, series_type = 'column', name = 'Hero Bans', id = 'Hero Bans', color = 'rgba(184, 60, 51, 0.75)', dataSorting = {'enabled': False}) \n",
    "\n",
    "chart"
   ]
  },
  {
   "cell_type": "code",
   "execution_count": 15,
   "metadata": {},
   "outputs": [
    {
     "data": {
      "text/html": [
       "<div>\n",
       "<style scoped>\n",
       "    .dataframe tbody tr th:only-of-type {\n",
       "        vertical-align: middle;\n",
       "    }\n",
       "\n",
       "    .dataframe tbody tr th {\n",
       "        vertical-align: top;\n",
       "    }\n",
       "\n",
       "    .dataframe thead th {\n",
       "        text-align: right;\n",
       "    }\n",
       "</style>\n",
       "<table border=\"1\" class=\"dataframe\">\n",
       "  <thead>\n",
       "    <tr style=\"text-align: right;\">\n",
       "      <th></th>\n",
       "      <th>hero_id</th>\n",
       "      <th>hero_name</th>\n",
       "      <th>hero_picks</th>\n",
       "      <th>hero_bans</th>\n",
       "      <th>total_pbs</th>\n",
       "    </tr>\n",
       "  </thead>\n",
       "  <tbody>\n",
       "    <tr>\n",
       "      <th>87</th>\n",
       "      <td>129</td>\n",
       "      <td>Mars</td>\n",
       "      <td>30</td>\n",
       "      <td>18</td>\n",
       "      <td>48</td>\n",
       "    </tr>\n",
       "    <tr>\n",
       "      <th>49</th>\n",
       "      <td>68</td>\n",
       "      <td>Ancient Apparition</td>\n",
       "      <td>14</td>\n",
       "      <td>33</td>\n",
       "      <td>47</td>\n",
       "    </tr>\n",
       "    <tr>\n",
       "      <th>33</th>\n",
       "      <td>46</td>\n",
       "      <td>Templar Assassin</td>\n",
       "      <td>17</td>\n",
       "      <td>25</td>\n",
       "      <td>42</td>\n",
       "    </tr>\n",
       "    <tr>\n",
       "      <th>60</th>\n",
       "      <td>88</td>\n",
       "      <td>Nyx Assassin</td>\n",
       "      <td>10</td>\n",
       "      <td>32</td>\n",
       "      <td>42</td>\n",
       "    </tr>\n",
       "    <tr>\n",
       "      <th>34</th>\n",
       "      <td>47</td>\n",
       "      <td>Viper</td>\n",
       "      <td>8</td>\n",
       "      <td>25</td>\n",
       "      <td>33</td>\n",
       "    </tr>\n",
       "    <tr>\n",
       "      <th>...</th>\n",
       "      <td>...</td>\n",
       "      <td>...</td>\n",
       "      <td>...</td>\n",
       "      <td>...</td>\n",
       "      <td>...</td>\n",
       "    </tr>\n",
       "    <tr>\n",
       "      <th>116</th>\n",
       "      <td>93</td>\n",
       "      <td>Slark</td>\n",
       "      <td>0</td>\n",
       "      <td>0</td>\n",
       "      <td>0</td>\n",
       "    </tr>\n",
       "    <tr>\n",
       "      <th>117</th>\n",
       "      <td>100</td>\n",
       "      <td>Tusk</td>\n",
       "      <td>0</td>\n",
       "      <td>0</td>\n",
       "      <td>0</td>\n",
       "    </tr>\n",
       "    <tr>\n",
       "      <th>118</th>\n",
       "      <td>105</td>\n",
       "      <td>Techies</td>\n",
       "      <td>0</td>\n",
       "      <td>0</td>\n",
       "      <td>0</td>\n",
       "    </tr>\n",
       "    <tr>\n",
       "      <th>119</th>\n",
       "      <td>113</td>\n",
       "      <td>Arc Warden</td>\n",
       "      <td>0</td>\n",
       "      <td>0</td>\n",
       "      <td>0</td>\n",
       "    </tr>\n",
       "    <tr>\n",
       "      <th>120</th>\n",
       "      <td>135</td>\n",
       "      <td>Dawnbreaker</td>\n",
       "      <td>0</td>\n",
       "      <td>0</td>\n",
       "      <td>0</td>\n",
       "    </tr>\n",
       "  </tbody>\n",
       "</table>\n",
       "<p>121 rows × 5 columns</p>\n",
       "</div>"
      ],
      "text/plain": [
       "     hero_id           hero_name  hero_picks  hero_bans  total_pbs\n",
       "87       129                Mars          30         18         48\n",
       "49        68  Ancient Apparition          14         33         47\n",
       "33        46    Templar Assassin          17         25         42\n",
       "60        88        Nyx Assassin          10         32         42\n",
       "34        47               Viper           8         25         33\n",
       "..       ...                 ...         ...        ...        ...\n",
       "116       93               Slark           0          0          0\n",
       "117      100                Tusk           0          0          0\n",
       "118      105             Techies           0          0          0\n",
       "119      113          Arc Warden           0          0          0\n",
       "120      135         Dawnbreaker           0          0          0\n",
       "\n",
       "[121 rows x 5 columns]"
      ]
     },
     "execution_count": 15,
     "metadata": {},
     "output_type": "execute_result"
    }
   ],
   "source": [
    "hero_counts"
   ]
  },
  {
   "cell_type": "code",
   "execution_count": 22,
   "metadata": {},
   "outputs": [],
   "source": [
    "hero_counts.to_csv('C:\\\\Users\\Alec\\\\OneDrive\\\\Documents\\\\Python_Scripts\\\\hero_counts.csv', index = False)"
   ]
  },
  {
   "cell_type": "code",
   "execution_count": null,
   "metadata": {},
   "outputs": [],
   "source": []
  }
 ],
 "metadata": {
  "kernelspec": {
   "display_name": "Python 3",
   "language": "python",
   "name": "python3"
  },
  "language_info": {
   "codemirror_mode": {
    "name": "ipython",
    "version": 3
   },
   "file_extension": ".py",
   "mimetype": "text/x-python",
   "name": "python",
   "nbconvert_exporter": "python",
   "pygments_lexer": "ipython3",
   "version": "3.7.1"
  }
 },
 "nbformat": 4,
 "nbformat_minor": 2
}
